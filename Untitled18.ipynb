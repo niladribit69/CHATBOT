{
 "cells": [
  {
   "cell_type": "code",
   "execution_count": null,
   "metadata": {},
   "outputs": [
    {
     "name": "stdout",
     "output_type": "stream",
     "text": [
      "List Trainer: [####################] 100%\n"
     ]
    },
    {
     "name": "stderr",
     "output_type": "stream",
     "text": [
      "[nltk_data] Downloading package stopwords to\n",
      "[nltk_data]     C:\\Users\\KIIT\\AppData\\Roaming\\nltk_data...\n",
      "[nltk_data]   Package stopwords is already up-to-date!\n",
      "[nltk_data] Downloading package averaged_perceptron_tagger to\n",
      "[nltk_data]     C:\\Users\\KIIT\\AppData\\Roaming\\nltk_data...\n",
      "[nltk_data]   Package averaged_perceptron_tagger is already up-to-\n",
      "[nltk_data]       date!\n"
     ]
    }
   ],
   "source": [
    "from chatterbot import ChatBot\n",
    "from chatterbot.trainers import ListTrainer\n",
    "from tkinter import *\n",
    "\n",
    "bot=ChatBot(\"NILBot\")\n",
    "\n",
    "convo=[\n",
    "    'hello',\n",
    "    'hi there!',\n",
    "    'what is your name ?',\n",
    "    'my name is NILBot',\n",
    "    'how are you?',\n",
    "    'I am doing great these days.',\n",
    "    'thank you',\n",
    "    'In which city you live?',\n",
    "    'I live in Bhubaneswar',\n",
    "    'In which language you talk?',\n",
    "    'I mostly talk in english'\n",
    "]\n",
    "\n",
    "trainer=ListTrainer(bot)\n",
    "\n",
    "#noe training the bots with the help of trainers\n",
    "\n",
    "trainer.train(convo)\n",
    "\n",
    "#answer=bot.get_response(\"what is your name\")\n",
    "#print(answer)\n",
    "#print(\"Talk to bot\")\n",
    "#while True:\n",
    " #   query=input()\n",
    " #   if query=='exit':\n",
    "  #      break\n",
    "   # answer=bot.get_response(query)\n",
    "    #print(\"NILBot:\",answer)\n",
    "    \n",
    "main=Tk()\n",
    "\n",
    "main.geometry(\"500x650\")\n",
    "main.title(\"NILBot\")\n",
    "\n",
    "def Ask_from_bot():\n",
    "    query=textF.get()\n",
    "    answer_from_bot=bot.get_response(query)\n",
    "    msgs.insert(END,\"you: \"+ query)\n",
    "    msgs.insert(END,\"NILBot:\"+ str(answer_from_bot))\n",
    "    textF.delete(0,END)\n",
    "frame=Frame(main)\n",
    "sc=Scrollbar(frame)\n",
    "msgs=Listbox(frame,width=80,height=20)\n",
    "\n",
    "sc.pack(side=RIGHT,fill=Y)\n",
    "\n",
    "msgs.pack(side=LEFT, fill=BOTH,pady=10)\n",
    "\n",
    "frame.pack()\n",
    "\n",
    "#creating text field\n",
    "\n",
    "textF=Entry(main,font=(\"Verdana\",20))\n",
    "textF.pack(fill=X,pady=10)\n",
    "\n",
    "btn=Button(main,text=\"Ask from bot\",font=(\"verdana\",20),command=Ask_from_bot)\n",
    "btn.pack()\n",
    "\n",
    "main.mainloop()\n",
    "\n",
    "    "
   ]
  },
  {
   "cell_type": "code",
   "execution_count": null,
   "metadata": {},
   "outputs": [],
   "source": [
    "nltk.download_shell()"
   ]
  },
  {
   "cell_type": "code",
   "execution_count": null,
   "metadata": {},
   "outputs": [],
   "source": []
  }
 ],
 "metadata": {
  "kernelspec": {
   "display_name": "Python 3",
   "language": "python",
   "name": "python3"
  },
  "language_info": {
   "codemirror_mode": {
    "name": "ipython",
    "version": 3
   },
   "file_extension": ".py",
   "mimetype": "text/x-python",
   "name": "python",
   "nbconvert_exporter": "python",
   "pygments_lexer": "ipython3",
   "version": "3.7.4"
  }
 },
 "nbformat": 4,
 "nbformat_minor": 2
}
